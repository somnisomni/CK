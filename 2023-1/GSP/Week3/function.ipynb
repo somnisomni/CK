{
 "cells": [
  {
   "cell_type": "code",
   "execution_count": 1,
   "metadata": {},
   "outputs": [
    {
     "name": "stdout",
     "output_type": "stream",
     "text": [
      "23\n",
      "The type of age:  <class 'str'>\n",
      "2000\n"
     ]
    }
   ],
   "source": [
    "age = input(\"Your age: \")\n",
    "print(age)\n",
    "print(\"The type of age: \", type(age))\n",
    "birthYear = 2023 - int(age);\n",
    "print(birthYear)"
   ]
  },
  {
   "cell_type": "code",
   "execution_count": 2,
   "metadata": {},
   "outputs": [
    {
     "name": "stdout",
     "output_type": "stream",
     "text": [
      "0.49999999999999994\n"
     ]
    }
   ],
   "source": [
    "import math\n",
    "\n",
    "degree = 30.0\n",
    "radian = degree / 180.0 * math.pi\n",
    "\n",
    "result = math.sin(radian)\n",
    "print(result)"
   ]
  },
  {
   "cell_type": "code",
   "execution_count": 3,
   "metadata": {},
   "outputs": [
    {
     "name": "stdout",
     "output_type": "stream",
     "text": [
      "CMG  is in  CK\n"
     ]
    }
   ],
   "source": [
    "def stdInfo():\n",
    "  name = input(\"Your name : \")\n",
    "  school = input(\"Your school : \")\n",
    "  print(name, \" is in \", school)\n",
    "\n",
    "stdInfo()"
   ]
  },
  {
   "cell_type": "code",
   "execution_count": 4,
   "metadata": {},
   "outputs": [],
   "source": [
    "def stdInfo2(name = \"Powersilk\", school = \"Chungkang\"):\n",
    "  print(name, \" is in \", school)"
   ]
  },
  {
   "cell_type": "code",
   "execution_count": 5,
   "metadata": {},
   "outputs": [
    {
     "name": "stdout",
     "output_type": "stream",
     "text": [
      "Powersilk  is in  Chungkang\n",
      "CMG  is in  CK\n"
     ]
    }
   ],
   "source": [
    "stdInfo2()\n",
    "stdInfo2(\"CMG\", \"CK\")"
   ]
  },
  {
   "cell_type": "code",
   "execution_count": 8,
   "metadata": {},
   "outputs": [],
   "source": [
    "def swap(x, y):\n",
    "  t = x\n",
    "  x = y\n",
    "  y = t\n",
    "  return x, y"
   ]
  },
  {
   "cell_type": "code",
   "execution_count": 11,
   "metadata": {},
   "outputs": [
    {
     "name": "stdout",
     "output_type": "stream",
     "text": [
      "10  ,  5\n"
     ]
    }
   ],
   "source": [
    "a = 5\n",
    "b = 10\n",
    "c, d = swap(a, b)\n",
    "print(c, \" , \", d)"
   ]
  },
  {
   "cell_type": "code",
   "execution_count": 17,
   "metadata": {},
   "outputs": [
    {
     "name": "stdout",
     "output_type": "stream",
     "text": [
      "hello\n",
      "hello\n"
     ]
    }
   ],
   "source": [
    "def test(func, arg):\n",
    "  func(arg)\n",
    "  func(arg)\n",
    "  \n",
    "test(print, \"hello\")"
   ]
  },
  {
   "cell_type": "code",
   "execution_count": 18,
   "metadata": {},
   "outputs": [
    {
     "name": "stdout",
     "output_type": "stream",
     "text": [
      "hello\n",
      "None\n"
     ]
    }
   ],
   "source": [
    "def say(arg):\n",
    "  print(arg)\n",
    "  \n",
    "hi = say(\"hello\")\n",
    "print(hi)"
   ]
  },
  {
   "cell_type": "code",
   "execution_count": 19,
   "metadata": {},
   "outputs": [
    {
     "name": "stdout",
     "output_type": "stream",
     "text": [
      "a = 10\n",
      "b = 50\n",
      "c = None\n"
     ]
    },
    {
     "ename": "NameError",
     "evalue": "name 'ttt1' is not defined",
     "output_type": "error",
     "traceback": [
      "\u001b[1;31m---------------------------------------------------------------------------\u001b[0m",
      "\u001b[1;31mNameError\u001b[0m                                 Traceback (most recent call last)",
      "Cell \u001b[1;32mIn[19], line 11\u001b[0m\n\u001b[0;32m      9\u001b[0m \u001b[39mprint\u001b[39m(\u001b[39m\"\u001b[39m\u001b[39mb =\u001b[39m\u001b[39m\"\u001b[39m, b)\n\u001b[0;32m     10\u001b[0m \u001b[39mprint\u001b[39m(\u001b[39m\"\u001b[39m\u001b[39mc =\u001b[39m\u001b[39m\"\u001b[39m, c)\n\u001b[1;32m---> 11\u001b[0m \u001b[39mprint\u001b[39m(\u001b[39m\"\u001b[39m\u001b[39mttt1 =\u001b[39m\u001b[39m\"\u001b[39m, ttt1)\n",
      "\u001b[1;31mNameError\u001b[0m: name 'ttt1' is not defined"
     ]
    }
   ],
   "source": [
    "def testfunction(ttt1, ttt2):\n",
    "  res = ttt1 + ttt2\n",
    "\n",
    "a = 10\n",
    "b = 50\n",
    "c = testfunction(a, b)\n",
    "\n",
    "print(\"a =\", a)\n",
    "print(\"b =\", b)\n",
    "print(\"c =\", c)\n",
    "# print(\"ttt1 =\", ttt1)  # 오류"
   ]
  }
 ],
 "metadata": {
  "kernelspec": {
   "display_name": "Python 3",
   "language": "python",
   "name": "python3"
  },
  "language_info": {
   "codemirror_mode": {
    "name": "ipython",
    "version": 3
   },
   "file_extension": ".py",
   "mimetype": "text/x-python",
   "name": "python",
   "nbconvert_exporter": "python",
   "pygments_lexer": "ipython3",
   "version": "3.11.2"
  },
  "orig_nbformat": 4
 },
 "nbformat": 4,
 "nbformat_minor": 2
}
