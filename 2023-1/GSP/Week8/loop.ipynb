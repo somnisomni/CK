{
 "cells": [
  {
   "cell_type": "code",
   "execution_count": 2,
   "metadata": {},
   "outputs": [
    {
     "name": "stdout",
     "output_type": "stream",
     "text": [
      "hungkangniversity"
     ]
    }
   ],
   "source": [
    "school = \"Chungkang University\"\n",
    "for ch in school:\n",
    "  if ch.islower():\n",
    "    print(ch, end=\"\")"
   ]
  },
  {
   "cell_type": "code",
   "execution_count": 3,
   "metadata": {},
   "outputs": [
    {
     "name": "stdout",
     "output_type": "stream",
     "text": [
      "9 x 1 = 9\n",
      "9 x 2 = 18\n",
      "9 x 3 = 27\n",
      "9 x 4 = 36\n",
      "9 x 5 = 45\n",
      "9 x 6 = 54\n",
      "9 x 7 = 63\n",
      "9 x 8 = 72\n",
      "9 x 9 = 81\n"
     ]
    }
   ],
   "source": [
    "def gugudan(dan):\n",
    "  for num in [1, 2, 3, 4, 5, 6, 7, 8, 9]:\n",
    "    print(dan, \"x\", num, \"=\", dan * num)\n",
    "\n",
    "gugudan(9)"
   ]
  },
  {
   "cell_type": "code",
   "execution_count": 4,
   "metadata": {},
   "outputs": [
    {
     "data": {
      "text/plain": [
       "55"
      ]
     },
     "execution_count": 4,
     "metadata": {},
     "output_type": "execute_result"
    }
   ],
   "source": [
    "def sumRange(num):\n",
    "  total = 0\n",
    "  for n in range(1, num + 1):\n",
    "    total = total + n\n",
    "  return total\n",
    "\n",
    "sumRange(10)"
   ]
  },
  {
   "cell_type": "code",
   "execution_count": 7,
   "metadata": {},
   "outputs": [
    {
     "name": "stdout",
     "output_type": "stream",
     "text": [
      "\t1\t2\t3\t4\t5\t6\n",
      "1\t1\t2\t3\t4\t5\t6\n",
      "2\t2\t4\t6\t8\t10\t12\n",
      "3\t3\t6\t9\t12\t15\t18\n",
      "4\t4\t8\t12\t16\t20\t24\n",
      "5\t5\t10\t15\t20\t25\t30\n",
      "6\t6\t12\t18\t24\t30\t36\n"
     ]
    }
   ],
   "source": [
    "def print_table(n):\n",
    "  numbers = list(range(1, n + 1))\n",
    "\n",
    "  # Header row\n",
    "  for i in range(1, n + 1):\n",
    "    print(\"\\t\" + str(i), end=\"\")\n",
    "  \n",
    "  print()\n",
    "  \n",
    "  # Each row\n",
    "  for i in numbers:\n",
    "    print(i, end=\"\")\n",
    "    for j in numbers:\n",
    "      print(\"\\t\" + str(i * j), end=\"\")\n",
    "    print()\n",
    "\n",
    "print_table(6)"
   ]
  },
  {
   "cell_type": "code",
   "execution_count": 9,
   "metadata": {},
   "outputs": [
    {
     "name": "stdout",
     "output_type": "stream",
     "text": [
      "2\n",
      "4\n",
      "6\n",
      "8\n",
      "10\n"
     ]
    }
   ],
   "source": [
    "numbers = [1, 2, 3, 4, 5, 6, 7, 8, 9, 10]\n",
    "\n",
    "for n in numbers[::2]:\n",
    "  print(numbers[n])"
   ]
  }
 ],
 "metadata": {
  "kernelspec": {
   "display_name": "Python 3",
   "language": "python",
   "name": "python3"
  },
  "language_info": {
   "codemirror_mode": {
    "name": "ipython",
    "version": 3
   },
   "file_extension": ".py",
   "mimetype": "text/x-python",
   "name": "python",
   "nbconvert_exporter": "python",
   "pygments_lexer": "ipython3",
   "version": "3.11.2"
  },
  "orig_nbformat": 4
 },
 "nbformat": 4,
 "nbformat_minor": 2
}
