{
  "cells": [
    {
      "attachments": {},
      "cell_type": "markdown",
      "metadata": {},
      "source": [
        "# This is a heading 1\n",
        "## This is a heading 2\n",
        "### This is a heading 3\n",
        "\n",
        "이 프로그램은 **첫 번째** 파이썬 <b>프로그램</b>입니다. <br>\n",
        "블라블라~~~ <br>\n",
        "\n",
        "*markdown*\n",
        "* test 1\n",
        "* test 2\n",
        "\n",
        "```python\n",
        "a = 100\n",
        "b = 10\n",
        "c = a / b\n",
        "print(\"C is \", c)\n",
        "```"
      ]
    },
    {
      "cell_type": "code",
      "execution_count": null,
      "metadata": {
        "colab": {
          "base_uri": "https://localhost:8080/"
        },
        "id": "GuTHp2m0QcSv",
        "outputId": "b20300c7-fbb6-4f4e-fa47-efcba58e677b"
      },
      "outputs": [],
      "source": [
        "print(\"Hello world\")"
      ]
    },
    {
      "cell_type": "code",
      "execution_count": null,
      "metadata": {
        "colab": {
          "base_uri": "https://localhost:8080/"
        },
        "id": "OhS15e9XSzdF",
        "outputId": "e818177c-900d-46d3-d88e-a84c95c27605"
      },
      "outputs": [],
      "source": [
        "name = input(\"What's your name \")\n",
        "print(\"Your name is\", name)"
      ]
    }
  ],
  "metadata": {
    "colab": {
      "provenance": []
    },
    "kernelspec": {
      "display_name": "Python 3",
      "name": "python3"
    },
    "language_info": {
      "codemirror_mode": {
        "name": "ipython",
        "version": 3
      },
      "file_extension": ".py",
      "mimetype": "text/x-python",
      "name": "python",
      "nbconvert_exporter": "python",
      "pygments_lexer": "ipython3",
      "version": "3.11.2"
    }
  },
  "nbformat": 4,
  "nbformat_minor": 0
}
